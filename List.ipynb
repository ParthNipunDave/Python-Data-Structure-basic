{
 "cells": [
  {
   "cell_type": "markdown",
   "metadata": {},
   "source": [
    "## List \n"
   ]
  },
  {
   "cell_type": "markdown",
   "metadata": {},
   "source": [
    "List is user defined data structure. We can store data of any data type into list. List is mutable data structure. Lets see some of lists operation."
   ]
  },
  {
   "cell_type": "markdown",
   "metadata": {},
   "source": [
    "### Declaring List"
   ]
  },
  {
   "cell_type": "markdown",
   "metadata": {},
   "source": [
    "We can define list in two ways: 1) with [] and 2) with constructor list()"
   ]
  },
  {
   "cell_type": "code",
   "execution_count": 1,
   "metadata": {},
   "outputs": [],
   "source": [
    "## With brackets \n",
    "list1 = [1,2,3,4,5,6]\n",
    "name = 'parth nipun dave'\n",
    "list2 = list(name)"
   ]
  },
  {
   "cell_type": "code",
   "execution_count": 2,
   "metadata": {},
   "outputs": [
    {
     "data": {
      "text/plain": [
       "[1, 2, 3, 4, 5, 6]"
      ]
     },
     "execution_count": 2,
     "metadata": {},
     "output_type": "execute_result"
    }
   ],
   "source": [
    "list1"
   ]
  },
  {
   "cell_type": "code",
   "execution_count": 3,
   "metadata": {},
   "outputs": [
    {
     "data": {
      "text/plain": [
       "['p',\n",
       " 'a',\n",
       " 'r',\n",
       " 't',\n",
       " 'h',\n",
       " ' ',\n",
       " 'n',\n",
       " 'i',\n",
       " 'p',\n",
       " 'u',\n",
       " 'n',\n",
       " ' ',\n",
       " 'd',\n",
       " 'a',\n",
       " 'v',\n",
       " 'e']"
      ]
     },
     "execution_count": 3,
     "metadata": {},
     "output_type": "execute_result"
    }
   ],
   "source": [
    "list2"
   ]
  },
  {
   "cell_type": "markdown",
   "metadata": {},
   "source": [
    "In list2, every character is consider as seperate element. \n",
    "Lets see declaring list with various data type."
   ]
  },
  {
   "cell_type": "code",
   "execution_count": 4,
   "metadata": {},
   "outputs": [
    {
     "data": {
      "text/plain": [
       "['Parth Dave', 23]"
      ]
     },
     "execution_count": 4,
     "metadata": {},
     "output_type": "execute_result"
    }
   ],
   "source": [
    "lis1 = ['Parth Dave',23]\n",
    "lis1"
   ]
  },
  {
   "cell_type": "markdown",
   "metadata": {},
   "source": [
    "Lis1 contains string and integer data element."
   ]
  },
  {
   "cell_type": "markdown",
   "metadata": {},
   "source": [
    "### Operations on lists\n",
    "Operations we can perform on list are:<br/>\n",
    "1) Add,<br/>\n",
    "2) Update,<br/>\n",
    "3) Delete,<br/>\n",
    "4) Arithmetic operation between two list etcs<br/>"
   ]
  },
  {
   "cell_type": "code",
   "execution_count": 16,
   "metadata": {},
   "outputs": [
    {
     "name": "stdout",
     "output_type": "stream",
     "text": [
      "Before\n",
      " [2, 4, 6, 8, 10]\n",
      "After\n",
      " [2, 4, 6, 8, 10, 12]\n"
     ]
    }
   ],
   "source": [
    "## Add\n",
    "## Adding elements into list\n",
    "lis = [2,4,6,8,10]\n",
    "print('Before\\n',lis)\n",
    "lis.append(12)\n",
    "print('After\\n',lis)\n"
   ]
  },
  {
   "cell_type": "code",
   "execution_count": 14,
   "metadata": {},
   "outputs": [
    {
     "name": "stdout",
     "output_type": "stream",
     "text": [
      "Before \n",
      " [1, 2, 4, 3, 5]\n",
      "After \n",
      " [1, 2, 3, 4, 5]\n"
     ]
    }
   ],
   "source": [
    "## Update\n",
    "## Updating values of list at particular index\n",
    "lis = [1,2,4,3,5]\n",
    "print('Before \\n',lis)\n",
    "lis[2]=3\n",
    "lis[3]=4\n",
    "print('After \\n',lis)"
   ]
  },
  {
   "cell_type": "code",
   "execution_count": 21,
   "metadata": {},
   "outputs": [
    {
     "name": "stdout",
     "output_type": "stream",
     "text": [
      "Before\n",
      " [1, 2, 3, 4, 5]\n",
      "After\n",
      " [2, 3, 4, 5]\n",
      "Before\n",
      " [2, 3, 4, 5]\n",
      "List deleted\n"
     ]
    }
   ],
   "source": [
    "## Delete \n",
    "## Deleting element from list\n",
    "lis = [1,2,3,4,5]\n",
    "print('Before\\n',lis)\n",
    "lis.remove(1)\n",
    "print('After\\n',lis)\n",
    "\n",
    "\n",
    "# You can also delete whole list \n",
    "print('Before\\n',lis)\n",
    "del(lis)\n",
    "try:\n",
    "    print('after\\n',lis)\n",
    "except:\n",
    "    print('List deleted')"
   ]
  }
 ],
 "metadata": {
  "kernelspec": {
   "display_name": "Python 3",
   "language": "python",
   "name": "python3"
  },
  "language_info": {
   "codemirror_mode": {
    "name": "ipython",
    "version": 3
   },
   "file_extension": ".py",
   "mimetype": "text/x-python",
   "name": "python",
   "nbconvert_exporter": "python",
   "pygments_lexer": "ipython3",
   "version": "3.7.4"
  }
 },
 "nbformat": 4,
 "nbformat_minor": 2
}
