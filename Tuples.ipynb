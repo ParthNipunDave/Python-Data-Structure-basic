{
 "cells": [
  {
   "cell_type": "markdown",
   "metadata": {},
   "source": [
    "## Tuples"
   ]
  },
  {
   "cell_type": "markdown",
   "metadata": {},
   "source": [
    "Tuples are immutable data sequence. We cannot add, edit, delete elements from tuple."
   ]
  },
  {
   "cell_type": "markdown",
   "metadata": {},
   "source": [
    "### Declaring tuples"
   ]
  },
  {
   "cell_type": "code",
   "execution_count": 4,
   "metadata": {},
   "outputs": [
    {
     "name": "stdout",
     "output_type": "stream",
     "text": [
      "Tup1\n",
      " (1, 2, 3)\n",
      "Tup2\n",
      " (4, 5, 6)\n",
      "Tup3\n",
      " (1, 2, 3, 4, 5) \n",
      "Type\n",
      " <class 'tuple'>\n"
     ]
    }
   ],
   "source": [
    "## using () \n",
    "\n",
    "\n",
    "tup1 = (1,2,3)\n",
    "\n",
    "# using ,\n",
    "\n",
    "tup2 = 4,5,6\n",
    "\n",
    "# using constructor\n",
    "lis = [1,2,3,4,5]\n",
    "tup3 = tuple(lis)\n",
    "print('Tup1\\n',tup1)\n",
    "print('Tup2\\n',tup2)\n",
    "print('Tup3\\n',tup3,'\\nType\\n',type(tup3))"
   ]
  },
  {
   "cell_type": "markdown",
   "metadata": {},
   "source": [
    "### Operations on tuple\n",
    "1) Adding  tuples<br/>\n",
    "2) Accesing values from tuple<br/>\n",
    "3) Deleting tuple"
   ]
  },
  {
   "cell_type": "code",
   "execution_count": 5,
   "metadata": {},
   "outputs": [
    {
     "name": "stdout",
     "output_type": "stream",
     "text": [
      "tup3\n",
      " (1, 2, 3, 4, 5, 6)\n"
     ]
    }
   ],
   "source": [
    "## Adding tuples\n",
    "\n",
    "tup1 = (1,2,3)\n",
    "tup2 = (4,5,6)\n",
    "tup3 = tup1+tup2\n",
    "print('tup3\\n',tup3)"
   ]
  },
  {
   "cell_type": "code",
   "execution_count": 6,
   "metadata": {},
   "outputs": [
    {
     "name": "stdout",
     "output_type": "stream",
     "text": [
      "Tuple\n",
      " (1, 2, 3, 4, 5, 6, 7)\n",
      "4th element  4\n"
     ]
    }
   ],
   "source": [
    "## Accessing values from tuple\n",
    "\n",
    "tup = (1,2,3,4,5,6,7)\n",
    "print('Tuple\\n',tup)\n",
    "\n",
    "print('4th element ',tup[3])"
   ]
  },
  {
   "cell_type": "code",
   "execution_count": 7,
   "metadata": {},
   "outputs": [
    {
     "name": "stdout",
     "output_type": "stream",
     "text": [
      "Before\n",
      " (1, 2, 3, 4, 5, 6, 7)\n",
      "Deleted\n"
     ]
    }
   ],
   "source": [
    "### Deleting tuple\n",
    "\n",
    "print('Before\\n',tup)\n",
    "del(tup)\n",
    "try:\n",
    "    print(tup)\n",
    "except:\n",
    "    print('Deleted')"
   ]
  }
 ],
 "metadata": {
  "kernelspec": {
   "display_name": "Python 3",
   "language": "python",
   "name": "python3"
  },
  "language_info": {
   "codemirror_mode": {
    "name": "ipython",
    "version": 3
   },
   "file_extension": ".py",
   "mimetype": "text/x-python",
   "name": "python",
   "nbconvert_exporter": "python",
   "pygments_lexer": "ipython3",
   "version": "3.7.4"
  }
 },
 "nbformat": 4,
 "nbformat_minor": 2
}
