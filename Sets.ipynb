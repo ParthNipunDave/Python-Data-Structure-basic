{
 "cells": [
  {
   "cell_type": "markdown",
   "metadata": {},
   "source": [
    "## Sets"
   ]
  },
  {
   "cell_type": "markdown",
   "metadata": {},
   "source": [
    "Set contains unique values. It is unordered and they are mutable"
   ]
  },
  {
   "cell_type": "markdown",
   "metadata": {},
   "source": [
    "### Declaring Sets"
   ]
  },
  {
   "cell_type": "code",
   "execution_count": 1,
   "metadata": {},
   "outputs": [
    {
     "name": "stdout",
     "output_type": "stream",
     "text": [
      "Set1\n",
      " {'Parth', 'Dave', 'Nipun'}\n",
      "Set2\n",
      " {'Parth', 'Ram', 'Shyam'}\n"
     ]
    }
   ],
   "source": [
    "## With {}\n",
    "\n",
    "set1 = {'Parth','Nipun','Dave','Parth'}\n",
    "name = ['Parth','Shyam','Ram','Ram']\n",
    "## with constructor\n",
    "set2 = set(name)\n",
    "\n",
    "print('Set1\\n',set1)\n",
    "print('Set2\\n',set2)"
   ]
  },
  {
   "cell_type": "markdown",
   "metadata": {},
   "source": [
    "## Operations on Sets\n",
    "1) Adding element <br/>\n",
    "2) Update element<br/>\n",
    "3) Remove element <br/>\n",
    "4) Deleting Sets"
   ]
  },
  {
   "cell_type": "code",
   "execution_count": 2,
   "metadata": {},
   "outputs": [
    {
     "name": "stdout",
     "output_type": "stream",
     "text": [
      "Before  {1, 2, 3, 4, 'Parth'}\n",
      "After  {1, 2, 3, 4, 'Ram', 'Parth'}\n"
     ]
    }
   ],
   "source": [
    "## Adding element\n",
    "data={1,2,3,4,'Parth'}\n",
    "print('Before ',data)\n",
    "data.add('Ram')\n",
    "print('After ',data)"
   ]
  },
  {
   "cell_type": "code",
   "execution_count": 3,
   "metadata": {},
   "outputs": [
    {
     "name": "stdout",
     "output_type": "stream",
     "text": [
      "Before  {1, 2, 3, 4, 'Ram', 'Parth'}\n",
      "After  {1, 2, 3, 4, 'Ram', 'Parth', 123}\n"
     ]
    }
   ],
   "source": [
    "## Update element\n",
    "\n",
    "print('Before ',data)\n",
    "data.update([123])\n",
    "print('After ',data)"
   ]
  },
  {
   "cell_type": "code",
   "execution_count": 4,
   "metadata": {},
   "outputs": [
    {
     "name": "stdout",
     "output_type": "stream",
     "text": [
      "Before  {1, 2, 3, 4, 'Ram', 'Parth', 123}\n",
      "After  {2, 3, 4, 'Ram', 'Parth', 123}\n"
     ]
    }
   ],
   "source": [
    "## Remove element\n",
    "print('Before ',data)\n",
    "data.pop()\n",
    "print('After ',data)\n",
    "## It works on fifo first in first out"
   ]
  },
  {
   "cell_type": "code",
   "execution_count": 5,
   "metadata": {},
   "outputs": [
    {
     "name": "stdout",
     "output_type": "stream",
     "text": [
      "Before  {2, 3, 4, 'Ram', 'Parth', 123}\n",
      "Deleted\n"
     ]
    }
   ],
   "source": [
    "## deleteing sets\n",
    "print('Before ',data)\n",
    "del(data)\n",
    "try:\n",
    "    print(\"After \",data)\n",
    "except:\n",
    "    print('Deleted')"
   ]
  }
 ],
 "metadata": {
  "kernelspec": {
   "display_name": "Python 3",
   "language": "python",
   "name": "python3"
  },
  "language_info": {
   "codemirror_mode": {
    "name": "ipython",
    "version": 3
   },
   "file_extension": ".py",
   "mimetype": "text/x-python",
   "name": "python",
   "nbconvert_exporter": "python",
   "pygments_lexer": "ipython3",
   "version": "3.7.4"
  }
 },
 "nbformat": 4,
 "nbformat_minor": 2
}
