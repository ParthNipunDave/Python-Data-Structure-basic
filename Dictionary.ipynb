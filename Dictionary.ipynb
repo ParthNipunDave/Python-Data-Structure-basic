{
 "cells": [
  {
   "cell_type": "markdown",
   "metadata": {},
   "source": [
    "## Dictionary"
   ]
  },
  {
   "cell_type": "markdown",
   "metadata": {},
   "source": [
    "Dictionary is mutable key-value data structure used for saving data in form of key-value."
   ]
  },
  {
   "cell_type": "markdown",
   "metadata": {},
   "source": [
    "### Declaring Dicitonary"
   ]
  },
  {
   "cell_type": "code",
   "execution_count": 1,
   "metadata": {},
   "outputs": [
    {
     "name": "stdout",
     "output_type": "stream",
     "text": [
      "Dictionary 1  {'name': 'Parth', 'age': 23}\n",
      "Dictionary 2  {'Name': 'Parth'}\n"
     ]
    }
   ],
   "source": [
    "# with {}\n",
    "dic = {\"name\":\"Parth\",'age':23}\n",
    "print('Dictionary 1 ',dic)\n",
    "# empty\n",
    "dic2 = {}\n",
    "dic2['Name']='Parth'\n",
    "print('Dictionary 2 ',dic2)\n"
   ]
  },
  {
   "cell_type": "markdown",
   "metadata": {},
   "source": [
    "## Operations on Dictionary\n",
    "1) Adding element <br/>\n",
    "2) Update element<br/>\n",
    "3) Remove elemenet <br/>\n",
    "4) Deleting Dictionary"
   ]
  },
  {
   "cell_type": "code",
   "execution_count": 2,
   "metadata": {},
   "outputs": [
    {
     "name": "stdout",
     "output_type": "stream",
     "text": [
      "Before  {'Name': 'Parth', 'Age': 23}\n",
      "After  {'Name': 'Parth', 'Age': 23, 'Male': True}\n"
     ]
    }
   ],
   "source": [
    "## Adding element\n",
    "\n",
    "data = {\n",
    "    'Name':'Parth',\n",
    "    'Age':23\n",
    "}\n",
    "print('Before ',data)\n",
    "data['Male'] = True\n",
    "print('After ',data)"
   ]
  },
  {
   "cell_type": "code",
   "execution_count": 4,
   "metadata": {},
   "outputs": [
    {
     "name": "stdout",
     "output_type": "stream",
     "text": [
      "Before  {'Name': 'Parth Nipun Dave', 'Age': 23, 'Male': True}\n",
      "After  {'Name': 'Parth Nipun Dave', 'Age': 23, 'Male': True}\n"
     ]
    }
   ],
   "source": [
    "## Update element\n",
    "\n",
    "print('Before ',data)\n",
    "data['Name']='Parth Nipun Dave'\n",
    "print('After ',data)"
   ]
  },
  {
   "cell_type": "code",
   "execution_count": 5,
   "metadata": {},
   "outputs": [
    {
     "name": "stdout",
     "output_type": "stream",
     "text": [
      "Before  {'Name': 'Parth Nipun Dave', 'Age': 23, 'Male': True}\n",
      "After  {'Name': 'Parth Nipun Dave', 'Age': 23}\n"
     ]
    }
   ],
   "source": [
    "## Removing element\n",
    "print('Before ',data)\n",
    "data.pop('Male')\n",
    "print('After ',data)"
   ]
  },
  {
   "cell_type": "code",
   "execution_count": 7,
   "metadata": {},
   "outputs": [
    {
     "name": "stdout",
     "output_type": "stream",
     "text": [
      "Before  {'Name': 'Parth Nipun Dave', 'Age': 23, 'Male': True}\n",
      "Deleted\n"
     ]
    }
   ],
   "source": [
    "## deleteing dictionary\n",
    "print('Before ',data)\n",
    "del(data)\n",
    "try:\n",
    "    print(\"After \",data)\n",
    "except:\n",
    "    print('Deleted')"
   ]
  }
 ],
 "metadata": {
  "kernelspec": {
   "display_name": "Python 3",
   "language": "python",
   "name": "python3"
  },
  "language_info": {
   "codemirror_mode": {
    "name": "ipython",
    "version": 3
   },
   "file_extension": ".py",
   "mimetype": "text/x-python",
   "name": "python",
   "nbconvert_exporter": "python",
   "pygments_lexer": "ipython3",
   "version": "3.7.4"
  }
 },
 "nbformat": 4,
 "nbformat_minor": 2
}
